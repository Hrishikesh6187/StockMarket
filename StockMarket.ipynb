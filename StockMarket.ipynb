{
 "cells": [
  {
   "cell_type": "code",
   "execution_count": null,
   "metadata": {},
   "outputs": [],
   "source": [
    "!pip install yfinance \n",
    "import numpy as np"
   ]
  },
  {
   "cell_type": "code",
   "execution_count": null,
   "metadata": {},
   "outputs": [],
   "source": [
    "!pip install plotly>=4.0.0\n",
    "!wget https://github.com/plotly/orca/releases/download/v1.2.1/orca-1.2.1-x86_64.AppImage -O /usr/local/bin/orca\n",
    "!chmod +x /usr/local/bin/orca\n",
    "!apt-get install xvfb libgtk2.0-0 libgconf-2-4"
   ]
  },
  {
   "cell_type": "code",
   "execution_count": null,
   "metadata": {},
   "outputs": [],
   "source": [
    "from google.colab import drive \n",
    "drive.mount('/content/drive')\n"
   ]
  },
  {
   "cell_type": "code",
   "execution_count": null,
   "metadata": {},
   "outputs": [],
   "source": [
    "import matplotlib.pyplot as plt \n",
    "import datetime\n",
    "import yfinance as yf\n",
    "import plotly.graph_objects as go from datetime \n",
    "import date, timedelta \n",
    "import pandas as pd"
   ]
  },
  {
   "cell_type": "code",
   "execution_count": null,
   "metadata": {},
   "outputs": [],
   "source": [
    "df = pd.read_csv('/content/data - Sheet1 (2).csv') \n",
    "df"
   ]
  },
  {
   "cell_type": "code",
   "execution_count": null,
   "metadata": {},
   "outputs": [],
   "source": [
    "import sqlite3\n",
    "connection = sqlite3.connect('mails.db')\n",
    "c = connection.cursor()"
   ]
  },
  {
   "cell_type": "code",
   "execution_count": null,
   "metadata": {},
   "outputs": [],
   "source": [
    "#c.execute(\"\"\"Create table mails #(\n",
    "#Name text,\n",
    "#Phone text,\n",
    "#Email text,\n",
    "#Company text)\n",
    "#\"\"\")\n",
    "df.to_sql('mails',connection,if_exists='replace',index = False)"
   ]
  },
  {
   "cell_type": "code",
   "execution_count": null,
   "metadata": {},
   "outputs": [],
   "source": [
    "c.execute('Select * from mails') \n",
    "print(c.fetchall())"
   ]
  },
  {
   "cell_type": "code",
   "execution_count": null,
   "metadata": {},
   "outputs": [],
   "source": [
    "a = df.loc[:,'Company'].values \n",
    "for i in a:\n",
    "    data = yf.download(tickers=i, period='1y', interval='1d')\n",
    "    fig = go.Figure(data=go.Scatter(x=data.index,y=data['Close'], mode='lines')) \n",
    "    fig.write_image(\"{}.png\".format(i))\n",
    "    print('saved')"
   ]
  },
  {
   "cell_type": "code",
   "execution_count": null,
   "metadata": {},
   "outputs": [],
   "source": [
    "import smtplib\n",
    "import imghdr\n",
    "from email.message import EmailMessage\n"
   ]
  },
  {
   "cell_type": "code",
   "execution_count": null,
   "metadata": {},
   "outputs": [],
   "source": [
    "Sender_Email = \"appstockpred@gmail.com\" \n",
    "Reciever_Email = df.loc[:,'Email'].values \n",
    "Password = 'hdcjrdzjlaygcvpa'\n"
   ]
  },
  {
   "cell_type": "code",
   "execution_count": null,
   "metadata": {},
   "outputs": [],
   "source": [
    "for i in Reciever_Email: \n",
    "    em = i\n",
    "    c.execute('Select Company from mails where Email = ?',[em]) b = c.fetchone()\n",
    "    newMessage = EmailMessage() newMessage['Subject'] = \"Check out the new logo\" \n",
    "    newMessage['From'] = Sender_Email newMessage['To'] = i \n",
    "    newMessage.set_content('Here is your stock value') \n",
    "    with open('{}.png'.format(b[0]), 'rb') as f:\n",
    "        image_data = f.read()\n",
    "        image_type = imghdr.what(f.name) image_name = f.name\n",
    "    newMessage.add_attachment(image_data, maintype='image', subtype=image_type, filename=image_name)\n",
    "    with smtplib.SMTP_SSL('smtp.gmail.com', 465) as smtp: \n",
    "        smtp.login(Sender_Email, Password) \n",
    "        smtp.send_message(newMessage)"
   ]
  }
 ],
 "metadata": {
  "language_info": {
   "name": "python"
  },
  "orig_nbformat": 4
 },
 "nbformat": 4,
 "nbformat_minor": 2
}
